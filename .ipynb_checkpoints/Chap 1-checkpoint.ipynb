{
 "cells": [
  {
   "cell_type": "code",
   "execution_count": 2,
   "metadata": {
    "collapsed": false
   },
   "outputs": [
    {
     "name": "stderr",
     "output_type": "stream",
     "text": [
      "C:\\Users\\GRANVILLE\\Anaconda2\\Lib\\site-packages\\pandas\\io\\data.py:33: FutureWarning: \n",
      "The pandas.io.data module is moved to a separate package (pandas-datareader) and will be removed from pandas in a future version.\n",
      "After installing the pandas-datareader package (https://github.com/pydata/pandas-datareader), you can change the import ``from pandas.io import data, wb`` to ``from pandas_datareader import data, wb``.\n",
      "  FutureWarning)\n"
     ]
    }
   ],
   "source": [
    "import numpy as np\n",
    "import pandas as pd\n",
    "import pandas.io.data as web"
   ]
  },
  {
   "cell_type": "code",
   "execution_count": 5,
   "metadata": {
    "collapsed": false
   },
   "outputs": [],
   "source": [
    "aapl = web.DataReader('AAPL',data_source='google',start='01/01/2016',end='25/10/16')"
   ]
  },
  {
   "cell_type": "code",
   "execution_count": 7,
   "metadata": {
    "collapsed": false
   },
   "outputs": [
    {
     "data": {
      "text/html": [
       "<div>\n",
       "<table border=\"1\" class=\"dataframe\">\n",
       "  <thead>\n",
       "    <tr style=\"text-align: right;\">\n",
       "      <th></th>\n",
       "      <th>Open</th>\n",
       "      <th>High</th>\n",
       "      <th>Low</th>\n",
       "      <th>Close</th>\n",
       "      <th>Volume</th>\n",
       "    </tr>\n",
       "  </thead>\n",
       "  <tbody>\n",
       "    <tr>\n",
       "      <th>count</th>\n",
       "      <td>206.000000</td>\n",
       "      <td>206.000000</td>\n",
       "      <td>206.000000</td>\n",
       "      <td>206.000000</td>\n",
       "      <td>2.060000e+02</td>\n",
       "    </tr>\n",
       "    <tr>\n",
       "      <th>mean</th>\n",
       "      <td>102.781893</td>\n",
       "      <td>103.682864</td>\n",
       "      <td>101.954709</td>\n",
       "      <td>102.857233</td>\n",
       "      <td>3.942837e+07</td>\n",
       "    </tr>\n",
       "    <tr>\n",
       "      <th>std</th>\n",
       "      <td>7.211107</td>\n",
       "      <td>7.155552</td>\n",
       "      <td>7.290303</td>\n",
       "      <td>7.253902</td>\n",
       "      <td>1.764047e+07</td>\n",
       "    </tr>\n",
       "    <tr>\n",
       "      <th>min</th>\n",
       "      <td>90.000000</td>\n",
       "      <td>91.670000</td>\n",
       "      <td>89.470000</td>\n",
       "      <td>90.340000</td>\n",
       "      <td>1.866043e+07</td>\n",
       "    </tr>\n",
       "    <tr>\n",
       "      <th>25%</th>\n",
       "      <td>96.475000</td>\n",
       "      <td>97.655000</td>\n",
       "      <td>95.632500</td>\n",
       "      <td>96.662500</td>\n",
       "      <td>2.742761e+07</td>\n",
       "    </tr>\n",
       "    <tr>\n",
       "      <th>50%</th>\n",
       "      <td>101.045000</td>\n",
       "      <td>101.825000</td>\n",
       "      <td>100.210000</td>\n",
       "      <td>101.145000</td>\n",
       "      <td>3.449992e+07</td>\n",
       "    </tr>\n",
       "    <tr>\n",
       "      <th>75%</th>\n",
       "      <td>108.550000</td>\n",
       "      <td>108.937500</td>\n",
       "      <td>107.832500</td>\n",
       "      <td>108.367500</td>\n",
       "      <td>4.534822e+07</td>\n",
       "    </tr>\n",
       "    <tr>\n",
       "      <th>max</th>\n",
       "      <td>118.180000</td>\n",
       "      <td>118.690000</td>\n",
       "      <td>117.450000</td>\n",
       "      <td>118.250000</td>\n",
       "      <td>1.322245e+08</td>\n",
       "    </tr>\n",
       "  </tbody>\n",
       "</table>\n",
       "</div>"
      ],
      "text/plain": [
       "             Open        High         Low       Close        Volume\n",
       "count  206.000000  206.000000  206.000000  206.000000  2.060000e+02\n",
       "mean   102.781893  103.682864  101.954709  102.857233  3.942837e+07\n",
       "std      7.211107    7.155552    7.290303    7.253902  1.764047e+07\n",
       "min     90.000000   91.670000   89.470000   90.340000  1.866043e+07\n",
       "25%     96.475000   97.655000   95.632500   96.662500  2.742761e+07\n",
       "50%    101.045000  101.825000  100.210000  101.145000  3.449992e+07\n",
       "75%    108.550000  108.937500  107.832500  108.367500  4.534822e+07\n",
       "max    118.180000  118.690000  117.450000  118.250000  1.322245e+08"
      ]
     },
     "execution_count": 7,
     "metadata": {},
     "output_type": "execute_result"
    }
   ],
   "source": [
    "aapl.describe(include='all')"
   ]
  },
  {
   "cell_type": "code",
   "execution_count": 8,
   "metadata": {
    "collapsed": false
   },
   "outputs": [
    {
     "data": {
      "text/html": [
       "<div>\n",
       "<table border=\"1\" class=\"dataframe\">\n",
       "  <thead>\n",
       "    <tr style=\"text-align: right;\">\n",
       "      <th></th>\n",
       "      <th>Open</th>\n",
       "      <th>High</th>\n",
       "      <th>Low</th>\n",
       "      <th>Close</th>\n",
       "      <th>Volume</th>\n",
       "    </tr>\n",
       "  </thead>\n",
       "  <tbody>\n",
       "    <tr>\n",
       "      <th>Open</th>\n",
       "      <td>1.000000</td>\n",
       "      <td>0.994494</td>\n",
       "      <td>0.994641</td>\n",
       "      <td>0.988360</td>\n",
       "      <td>-0.240784</td>\n",
       "    </tr>\n",
       "    <tr>\n",
       "      <th>High</th>\n",
       "      <td>0.994494</td>\n",
       "      <td>1.000000</td>\n",
       "      <td>0.993554</td>\n",
       "      <td>0.994646</td>\n",
       "      <td>-0.207353</td>\n",
       "    </tr>\n",
       "    <tr>\n",
       "      <th>Low</th>\n",
       "      <td>0.994641</td>\n",
       "      <td>0.993554</td>\n",
       "      <td>1.000000</td>\n",
       "      <td>0.994741</td>\n",
       "      <td>-0.277510</td>\n",
       "    </tr>\n",
       "    <tr>\n",
       "      <th>Close</th>\n",
       "      <td>0.988360</td>\n",
       "      <td>0.994646</td>\n",
       "      <td>0.994741</td>\n",
       "      <td>1.000000</td>\n",
       "      <td>-0.247055</td>\n",
       "    </tr>\n",
       "    <tr>\n",
       "      <th>Volume</th>\n",
       "      <td>-0.240784</td>\n",
       "      <td>-0.207353</td>\n",
       "      <td>-0.277510</td>\n",
       "      <td>-0.247055</td>\n",
       "      <td>1.000000</td>\n",
       "    </tr>\n",
       "  </tbody>\n",
       "</table>\n",
       "</div>"
      ],
      "text/plain": [
       "            Open      High       Low     Close    Volume\n",
       "Open    1.000000  0.994494  0.994641  0.988360 -0.240784\n",
       "High    0.994494  1.000000  0.993554  0.994646 -0.207353\n",
       "Low     0.994641  0.993554  1.000000  0.994741 -0.277510\n",
       "Close   0.988360  0.994646  0.994741  1.000000 -0.247055\n",
       "Volume -0.240784 -0.207353 -0.277510 -0.247055  1.000000"
      ]
     },
     "execution_count": 8,
     "metadata": {},
     "output_type": "execute_result"
    }
   ],
   "source": [
    "aapl.corr()"
   ]
  },
  {
   "cell_type": "code",
   "execution_count": 12,
   "metadata": {
    "collapsed": false
   },
   "outputs": [
    {
     "data": {
      "text/plain": [
       "\n",
       "-------------------------Summary of Regression Analysis-------------------------\n",
       "\n",
       "Formula: Y ~ <x>\n",
       "\n",
       "Number of Observations:         206\n",
       "Number of Degrees of Freedom:   1\n",
       "\n",
       "R-squared:         0.9999\n",
       "Adj R-squared:     0.9999\n",
       "\n",
       "Rmse:              1.1045\n",
       "\n",
       "F-stat (1, 205): 1794994.8354, p-value:     0.0000\n",
       "\n",
       "Degrees of Freedom: model 1, resid 205\n",
       "\n",
       "-----------------------Summary of Estimated Coefficients------------------------\n",
       "      Variable       Coef    Std Err     t-stat    p-value    CI 2.5%   CI 97.5%\n",
       "--------------------------------------------------------------------------------\n",
       "             x     1.0007     0.0007    1339.77     0.0000     0.9992     1.0022\n",
       "---------------------------------End of Summary---------------------------------"
      ]
     },
     "execution_count": 12,
     "metadata": {},
     "output_type": "execute_result"
    }
   ],
   "source": [
    "pd.ols(y=aapl['Close'],x=aapl['Open'],intercept=False)"
   ]
  },
  {
   "cell_type": "code",
   "execution_count": 21,
   "metadata": {
    "collapsed": true
   },
   "outputs": [],
   "source": [
    "aapl['30d'] = np.round(pd.rolling_mean(aapl['Close'],30),2)"
   ]
  },
  {
   "cell_type": "code",
   "execution_count": 20,
   "metadata": {
    "collapsed": true
   },
   "outputs": [],
   "source": [
    "aapl['5d'] = np.round(pd.rolling_mean(aapl['Close'],5),2)"
   ]
  },
  {
   "cell_type": "code",
   "execution_count": 24,
   "metadata": {
    "collapsed": false
   },
   "outputs": [],
   "source": [
    "aapl['spread'] = aapl['5d'] - aapl['30d'] "
   ]
  },
  {
   "cell_type": "code",
   "execution_count": 31,
   "metadata": {
    "collapsed": true
   },
   "outputs": [],
   "source": [
    "SD = 5\n",
    "aapl['regime'] = np.where(aapl['spread'] > SD , 1, 0)"
   ]
  },
  {
   "cell_type": "code",
   "execution_count": 32,
   "metadata": {
    "collapsed": true
   },
   "outputs": [],
   "source": [
    "aapl['regime'] = np.where(aapl['spread'] < -SD, -1, aapl['regime'])"
   ]
  },
  {
   "cell_type": "code",
   "execution_count": 27,
   "metadata": {
    "collapsed": false
   },
   "outputs": [
    {
     "data": {
      "text/html": [
       "<div>\n",
       "<table border=\"1\" class=\"dataframe\">\n",
       "  <thead>\n",
       "    <tr style=\"text-align: right;\">\n",
       "      <th></th>\n",
       "      <th>Open</th>\n",
       "      <th>High</th>\n",
       "      <th>Low</th>\n",
       "      <th>Close</th>\n",
       "      <th>Volume</th>\n",
       "      <th>5d</th>\n",
       "      <th>30d</th>\n",
       "      <th>spread</th>\n",
       "      <th>regime</th>\n",
       "    </tr>\n",
       "  </thead>\n",
       "  <tbody>\n",
       "    <tr>\n",
       "      <th>count</th>\n",
       "      <td>206.000000</td>\n",
       "      <td>206.000000</td>\n",
       "      <td>206.000000</td>\n",
       "      <td>206.000000</td>\n",
       "      <td>2.060000e+02</td>\n",
       "      <td>202.000000</td>\n",
       "      <td>177.000000</td>\n",
       "      <td>177.000000</td>\n",
       "      <td>177.000000</td>\n",
       "    </tr>\n",
       "    <tr>\n",
       "      <th>mean</th>\n",
       "      <td>102.781893</td>\n",
       "      <td>103.682864</td>\n",
       "      <td>101.954709</td>\n",
       "      <td>102.857233</td>\n",
       "      <td>3.942837e+07</td>\n",
       "      <td>102.712228</td>\n",
       "      <td>102.156893</td>\n",
       "      <td>1.354294</td>\n",
       "      <td>0.384181</td>\n",
       "    </tr>\n",
       "    <tr>\n",
       "      <th>std</th>\n",
       "      <td>7.211107</td>\n",
       "      <td>7.155552</td>\n",
       "      <td>7.290303</td>\n",
       "      <td>7.253902</td>\n",
       "      <td>1.764047e+07</td>\n",
       "      <td>7.024368</td>\n",
       "      <td>5.448478</td>\n",
       "      <td>4.382655</td>\n",
       "      <td>0.922804</td>\n",
       "    </tr>\n",
       "    <tr>\n",
       "      <th>min</th>\n",
       "      <td>90.000000</td>\n",
       "      <td>91.670000</td>\n",
       "      <td>89.470000</td>\n",
       "      <td>90.340000</td>\n",
       "      <td>1.866043e+07</td>\n",
       "      <td>91.920000</td>\n",
       "      <td>95.720000</td>\n",
       "      <td>-11.270000</td>\n",
       "      <td>-1.000000</td>\n",
       "    </tr>\n",
       "    <tr>\n",
       "      <th>25%</th>\n",
       "      <td>96.475000</td>\n",
       "      <td>97.655000</td>\n",
       "      <td>95.632500</td>\n",
       "      <td>96.662500</td>\n",
       "      <td>2.742761e+07</td>\n",
       "      <td>96.557500</td>\n",
       "      <td>96.920000</td>\n",
       "      <td>-0.480000</td>\n",
       "      <td>-1.000000</td>\n",
       "    </tr>\n",
       "    <tr>\n",
       "      <th>50%</th>\n",
       "      <td>101.045000</td>\n",
       "      <td>101.825000</td>\n",
       "      <td>100.210000</td>\n",
       "      <td>101.145000</td>\n",
       "      <td>3.449992e+07</td>\n",
       "      <td>100.465000</td>\n",
       "      <td>100.890000</td>\n",
       "      <td>2.590000</td>\n",
       "      <td>1.000000</td>\n",
       "    </tr>\n",
       "    <tr>\n",
       "      <th>75%</th>\n",
       "      <td>108.550000</td>\n",
       "      <td>108.937500</td>\n",
       "      <td>107.832500</td>\n",
       "      <td>108.367500</td>\n",
       "      <td>4.534822e+07</td>\n",
       "      <td>108.415000</td>\n",
       "      <td>106.890000</td>\n",
       "      <td>4.370000</td>\n",
       "      <td>1.000000</td>\n",
       "    </tr>\n",
       "    <tr>\n",
       "      <th>max</th>\n",
       "      <td>118.180000</td>\n",
       "      <td>118.690000</td>\n",
       "      <td>117.450000</td>\n",
       "      <td>118.250000</td>\n",
       "      <td>1.322245e+08</td>\n",
       "      <td>117.390000</td>\n",
       "      <td>114.930000</td>\n",
       "      <td>7.210000</td>\n",
       "      <td>1.000000</td>\n",
       "    </tr>\n",
       "  </tbody>\n",
       "</table>\n",
       "</div>"
      ],
      "text/plain": [
       "             Open        High         Low       Close        Volume  \\\n",
       "count  206.000000  206.000000  206.000000  206.000000  2.060000e+02   \n",
       "mean   102.781893  103.682864  101.954709  102.857233  3.942837e+07   \n",
       "std      7.211107    7.155552    7.290303    7.253902  1.764047e+07   \n",
       "min     90.000000   91.670000   89.470000   90.340000  1.866043e+07   \n",
       "25%     96.475000   97.655000   95.632500   96.662500  2.742761e+07   \n",
       "50%    101.045000  101.825000  100.210000  101.145000  3.449992e+07   \n",
       "75%    108.550000  108.937500  107.832500  108.367500  4.534822e+07   \n",
       "max    118.180000  118.690000  117.450000  118.250000  1.322245e+08   \n",
       "\n",
       "               5d         30d      spread      regime  \n",
       "count  202.000000  177.000000  177.000000  177.000000  \n",
       "mean   102.712228  102.156893    1.354294    0.384181  \n",
       "std      7.024368    5.448478    4.382655    0.922804  \n",
       "min     91.920000   95.720000  -11.270000   -1.000000  \n",
       "25%     96.557500   96.920000   -0.480000   -1.000000  \n",
       "50%    100.465000  100.890000    2.590000    1.000000  \n",
       "75%    108.415000  106.890000    4.370000    1.000000  \n",
       "max    117.390000  114.930000    7.210000    1.000000  "
      ]
     },
     "execution_count": 27,
     "metadata": {},
     "output_type": "execute_result"
    }
   ],
   "source": [
    "aapl.describe()"
   ]
  },
  {
   "cell_type": "code",
   "execution_count": 29,
   "metadata": {
    "collapsed": false
   },
   "outputs": [],
   "source": [
    "%matplotlib inline"
   ]
  },
  {
   "cell_type": "code",
   "execution_count": 33,
   "metadata": {
    "collapsed": false
   },
   "outputs": [
    {
     "data": {
      "text/plain": [
       "<matplotlib.axes._subplots.AxesSubplot at 0x92284a8>"
      ]
     },
     "execution_count": 33,
     "metadata": {},
     "output_type": "execute_result"
    },
    {
     "data": {
      "image/png": "[encoded data removed]",
      "text/plain": [
       "<matplotlib.figure.Figure at 0xaaf3400>"
      ]
     },
     "metadata": {},
     "output_type": "display_data"
    }
   ],
   "source": [
    "aapl['regime'].plot()"
   ]
  },
  {
   "cell_type": "code",
   "execution_count": 36,
   "metadata": {
    "collapsed": false
   },
   "outputs": [],
   "source": [
    "aapl['return']= np.log(aapl['Close']/aapl['Close'].shift(1))"
   ]
  },
  {
   "cell_type": "code",
   "execution_count": 40,
   "metadata": {
    "collapsed": false
   },
   "outputs": [],
   "source": [
    "aapl['daily_pnl'] = aapl['regime'].shift(1) * aapl['return']"
   ]
  },
  {
   "cell_type": "code",
   "execution_count": 41,
   "metadata": {
    "collapsed": false
   },
   "outputs": [
    {
     "data": {
      "text/html": [
       "<div>\n",
       "<table border=\"1\" class=\"dataframe\">\n",
       "  <thead>\n",
       "    <tr style=\"text-align: right;\">\n",
       "      <th></th>\n",
       "      <th>Open</th>\n",
       "      <th>High</th>\n",
       "      <th>Low</th>\n",
       "      <th>Close</th>\n",
       "      <th>Volume</th>\n",
       "      <th>5d</th>\n",
       "      <th>30d</th>\n",
       "      <th>spread</th>\n",
       "      <th>regime</th>\n",
       "      <th>return</th>\n",
       "      <th>daily_pnl</th>\n",
       "    </tr>\n",
       "  </thead>\n",
       "  <tbody>\n",
       "    <tr>\n",
       "      <th>count</th>\n",
       "      <td>206.000000</td>\n",
       "      <td>206.000000</td>\n",
       "      <td>206.000000</td>\n",
       "      <td>206.000000</td>\n",
       "      <td>2.060000e+02</td>\n",
       "      <td>202.000000</td>\n",
       "      <td>177.000000</td>\n",
       "      <td>177.000000</td>\n",
       "      <td>206.000000</td>\n",
       "      <td>205.000000</td>\n",
       "      <td>205.000000</td>\n",
       "    </tr>\n",
       "    <tr>\n",
       "      <th>mean</th>\n",
       "      <td>102.781893</td>\n",
       "      <td>103.682864</td>\n",
       "      <td>101.954709</td>\n",
       "      <td>102.857233</td>\n",
       "      <td>3.942837e+07</td>\n",
       "      <td>102.712228</td>\n",
       "      <td>102.156893</td>\n",
       "      <td>1.354294</td>\n",
       "      <td>0.072816</td>\n",
       "      <td>0.000563</td>\n",
       "      <td>0.000136</td>\n",
       "    </tr>\n",
       "    <tr>\n",
       "      <th>std</th>\n",
       "      <td>7.211107</td>\n",
       "      <td>7.155552</td>\n",
       "      <td>7.290303</td>\n",
       "      <td>7.253902</td>\n",
       "      <td>1.764047e+07</td>\n",
       "      <td>7.024368</td>\n",
       "      <td>5.448478</td>\n",
       "      <td>4.382655</td>\n",
       "      <td>0.483422</td>\n",
       "      <td>0.015504</td>\n",
       "      <td>0.005336</td>\n",
       "    </tr>\n",
       "    <tr>\n",
       "      <th>min</th>\n",
       "      <td>90.000000</td>\n",
       "      <td>91.670000</td>\n",
       "      <td>89.470000</td>\n",
       "      <td>90.340000</td>\n",
       "      <td>1.866043e+07</td>\n",
       "      <td>91.920000</td>\n",
       "      <td>95.720000</td>\n",
       "      <td>-11.270000</td>\n",
       "      <td>-1.000000</td>\n",
       "      <td>-0.067965</td>\n",
       "      <td>-0.036447</td>\n",
       "    </tr>\n",
       "    <tr>\n",
       "      <th>25%</th>\n",
       "      <td>96.475000</td>\n",
       "      <td>97.655000</td>\n",
       "      <td>95.632500</td>\n",
       "      <td>96.662500</td>\n",
       "      <td>2.742761e+07</td>\n",
       "      <td>96.557500</td>\n",
       "      <td>96.920000</td>\n",
       "      <td>-0.480000</td>\n",
       "      <td>0.000000</td>\n",
       "      <td>-0.005694</td>\n",
       "      <td>0.000000</td>\n",
       "    </tr>\n",
       "    <tr>\n",
       "      <th>50%</th>\n",
       "      <td>101.045000</td>\n",
       "      <td>101.825000</td>\n",
       "      <td>100.210000</td>\n",
       "      <td>101.145000</td>\n",
       "      <td>3.449992e+07</td>\n",
       "      <td>100.465000</td>\n",
       "      <td>100.890000</td>\n",
       "      <td>2.590000</td>\n",
       "      <td>0.000000</td>\n",
       "      <td>0.000890</td>\n",
       "      <td>-0.000000</td>\n",
       "    </tr>\n",
       "    <tr>\n",
       "      <th>75%</th>\n",
       "      <td>108.550000</td>\n",
       "      <td>108.937500</td>\n",
       "      <td>107.832500</td>\n",
       "      <td>108.367500</td>\n",
       "      <td>4.534822e+07</td>\n",
       "      <td>108.415000</td>\n",
       "      <td>106.890000</td>\n",
       "      <td>4.370000</td>\n",
       "      <td>0.000000</td>\n",
       "      <td>0.008247</td>\n",
       "      <td>0.000000</td>\n",
       "    </tr>\n",
       "    <tr>\n",
       "      <th>max</th>\n",
       "      <td>118.180000</td>\n",
       "      <td>118.690000</td>\n",
       "      <td>117.450000</td>\n",
       "      <td>118.250000</td>\n",
       "      <td>1.322245e+08</td>\n",
       "      <td>117.390000</td>\n",
       "      <td>114.930000</td>\n",
       "      <td>7.210000</td>\n",
       "      <td>1.000000</td>\n",
       "      <td>0.062940</td>\n",
       "      <td>0.023736</td>\n",
       "    </tr>\n",
       "  </tbody>\n",
       "</table>\n",
       "</div>"
      ],
      "text/plain": [
       "             Open        High         Low       Close        Volume  \\\n",
       "count  206.000000  206.000000  206.000000  206.000000  2.060000e+02   \n",
       "mean   102.781893  103.682864  101.954709  102.857233  3.942837e+07   \n",
       "std      7.211107    7.155552    7.290303    7.253902  1.764047e+07   \n",
       "min     90.000000   91.670000   89.470000   90.340000  1.866043e+07   \n",
       "25%     96.475000   97.655000   95.632500   96.662500  2.742761e+07   \n",
       "50%    101.045000  101.825000  100.210000  101.145000  3.449992e+07   \n",
       "75%    108.550000  108.937500  107.832500  108.367500  4.534822e+07   \n",
       "max    118.180000  118.690000  117.450000  118.250000  1.322245e+08   \n",
       "\n",
       "               5d         30d      spread      regime      return   daily_pnl  \n",
       "count  202.000000  177.000000  177.000000  206.000000  205.000000  205.000000  \n",
       "mean   102.712228  102.156893    1.354294    0.072816    0.000563    0.000136  \n",
       "std      7.024368    5.448478    4.382655    0.483422    0.015504    0.005336  \n",
       "min     91.920000   95.720000  -11.270000   -1.000000   -0.067965   -0.036447  \n",
       "25%     96.557500   96.920000   -0.480000    0.000000   -0.005694    0.000000  \n",
       "50%    100.465000  100.890000    2.590000    0.000000    0.000890   -0.000000  \n",
       "75%    108.415000  106.890000    4.370000    0.000000    0.008247    0.000000  \n",
       "max    117.390000  114.930000    7.210000    1.000000    0.062940    0.023736  "
      ]
     },
     "execution_count": 41,
     "metadata": {},
     "output_type": "execute_result"
    }
   ],
   "source": [
    "aapl.describe()"
   ]
  },
  {
   "cell_type": "code",
   "execution_count": 42,
   "metadata": {
    "collapsed": false
   },
   "outputs": [
    {
     "data": {
      "text/plain": [
       "<matplotlib.axes._subplots.AxesSubplot at 0x9212128>"
      ]
     },
     "execution_count": 42,
     "metadata": {},
     "output_type": "execute_result"
    },
    {
     "data": {
      "image/png": "[encoded data removed]",
      "text/plain": [
       "<matplotlib.figure.Figure at 0xaca8208>"
      ]
     },
     "metadata": {},
     "output_type": "display_data"
    }
   ],
   "source": [
    "aapl['daily_pnl'].plot()"
   ]
  },
  {
   "cell_type": "code",
   "execution_count": 44,
   "metadata": {
    "collapsed": false
   },
   "outputs": [
    {
     "data": {
      "text/plain": [
       "<matplotlib.axes._subplots.AxesSubplot at 0xaca8ef0>"
      ]
     },
     "execution_count": 44,
     "metadata": {},
     "output_type": "execute_result"
    },
    {
     "data": {
      "image/png": "[encoded data removed]",
      "text/plain": [
       "<matplotlib.figure.Figure at 0xac378d0>"
      ]
     },
     "metadata": {},
     "output_type": "display_data"
    }
   ],
   "source": [
    "aapl[['daily_pnl', 'return']].cumsum().apply(np.exp).plot() "
   ]
  },
  {
   "cell_type": "code",
   "execution_count": null,
   "metadata": {
    "collapsed": true
   },
   "outputs": [],
   "source": []
  }
 ],
 "metadata": {
  "kernelspec": {
   "display_name": "Python 2",
   "language": "python",
   "name": "python2"
  },
  "language_info": {
   "codemirror_mode": {
    "name": "ipython",
    "version": 2
   },
   "file_extension": ".py",
   "mimetype": "text/x-python",
   "name": "python",
   "nbconvert_exporter": "python",
   "pygments_lexer": "ipython2",
   "version": "2.7.11"
  }
 },
 "nbformat": 4,
 "nbformat_minor": 0
}
